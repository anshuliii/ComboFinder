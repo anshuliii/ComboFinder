{
  "nbformat": 4,
  "nbformat_minor": 0,
  "metadata": {
    "colab": {
      "provenance": []
    },
    "kernelspec": {
      "name": "python3",
      "display_name": "Python 3"
    },
    "language_info": {
      "name": "python"
    }
  },
  "cells": [
    {
      "cell_type": "markdown",
      "source": [
        "**Combo** **Finder** : Problem Statement:\n",
        "Find all the list of products whose sum-of-price is between 290 and 310.\n",
        "\n",
        "ProductList = {p1:10, p2:15, p3:20, p4:25, p5:30, p6:35, p7:50}"
      ],
      "metadata": {
        "id": "2ysrquxYz4L0"
      }
    },
    {
      "cell_type": "code",
      "execution_count": 1,
      "metadata": {
        "colab": {
          "base_uri": "https://localhost:8080/"
        },
        "id": "G4zNIYbQzW04",
        "outputId": "887279d9-6bdd-48f3-8bb7-bf2dee883417"
      },
      "outputs": [
        {
          "output_type": "stream",
          "name": "stdout",
          "text": [
            "('p11', 'p13', 'p14', 'p4', 'p5', 'p9')\n",
            "('p12', 'p14', 'p3', 'p4', 'p6', 'p7', 'p9')\n",
            "('p10', 'p11', 'p12', 'p14', 'p9')\n",
            "('p12', 'p13', 'p5', 'p6', 'p8', 'p9')\n",
            "('p1', 'p12', 'p5', 'p6', 'p7', 'p8', 'p9')\n",
            "('p11', 'p13', 'p2', 'p7', 'p8', 'p9')\n",
            "('p1', 'p10', 'p11', 'p12', 'p3', 'p4', 'p9')\n",
            "('p1', 'p10', 'p12', 'p14', 'p2', 'p3', 'p4', 'p8')\n",
            "('p10', 'p11', 'p12', 'p14', 'p2', 'p5')\n",
            "('p1', 'p10', 'p12', 'p14', 'p3', 'p4', 'p5', 'p8')\n",
            "('p1', 'p10', 'p2', 'p4', 'p6', 'p7', 'p8', 'p9')\n",
            "('p11', 'p12', 'p14', 'p2', 'p3', 'p6', 'p8')\n",
            "('p1', 'p10', 'p11', 'p12', 'p13', 'p2')\n",
            "('p1', 'p10', 'p12', 'p2', 'p4', 'p5', 'p6', 'p9')\n",
            "('p1', 'p10', 'p11', 'p14', 'p3', 'p6', 'p9')\n",
            "('p1', 'p10', 'p11', 'p13', 'p2', 'p5', 'p8')\n",
            "('p13', 'p14', 'p2', 'p3', 'p6', 'p7', 'p9')\n",
            "('p11', 'p12', 'p2', 'p6', 'p7', 'p9')\n",
            "('p1', 'p12', 'p2', 'p3', 'p6', 'p7', 'p8', 'p9')\n",
            "('p1', 'p10', 'p11', 'p14', 'p2', 'p3', 'p4', 'p7')\n",
            "('p11', 'p12', 'p14', 'p3', 'p6', 'p7')\n",
            "('p1', 'p10', 'p13', 'p2', 'p3', 'p5', 'p6', 'p9')\n",
            "('p10', 'p11', 'p2', 'p3', 'p4', 'p7', 'p9')\n",
            "('p1', 'p10', 'p13', 'p2', 'p4', 'p6', 'p7', 'p8')\n",
            "('p1', 'p12', 'p13', 'p14', 'p3', 'p7', 'p8')\n",
            "('p1', 'p10', 'p11', 'p14', 'p4', 'p8', 'p9')\n",
            "('p1', 'p10', 'p11', 'p13', 'p2', 'p3', 'p4', 'p6')\n",
            "('p1', 'p10', 'p11', 'p13', 'p4', 'p5', 'p7')\n",
            "('p10', 'p11', 'p12', 'p2', 'p8', 'p9')\n",
            "('p12', 'p13', 'p2', 'p6', 'p7', 'p9')\n",
            "('p10', 'p13', 'p14', 'p2', 'p3', 'p4', 'p5', 'p6')\n",
            "('p10', 'p12', 'p13', 'p2', 'p7', 'p8')\n",
            "('p10', 'p11', 'p12', 'p6', 'p9')\n",
            "('p1', 'p10', 'p13', 'p2', 'p3', 'p4', 'p7', 'p9')\n",
            "('p10', 'p11', 'p3', 'p5', 'p6', 'p7', 'p8')\n",
            "('p1', 'p11', 'p12', 'p13', 'p3', 'p4', 'p6')\n",
            "('p1', 'p11', 'p13', 'p3', 'p4', 'p5', 'p6', 'p7')\n",
            "('p11', 'p12', 'p13', 'p6', 'p9')\n",
            "('p10', 'p13', 'p14', 'p3', 'p4', 'p5', 'p7')\n",
            "('p12', 'p13', 'p14', 'p2', 'p3', 'p5', 'p6')\n",
            "('p12', 'p13', 'p2', 'p3', 'p5', 'p6', 'p7')\n",
            "('p10', 'p11', 'p2', 'p3', 'p4', 'p6', 'p7', 'p8')\n",
            "('p11', 'p12', 'p13', 'p4', 'p6', 'p8')\n",
            "('p1', 'p12', 'p13', 'p2', 'p6', 'p8', 'p9')\n",
            "('p1', 'p10', 'p12', 'p13', 'p14', 'p2', 'p4')\n",
            "('p1', 'p11', 'p12', 'p3', 'p5', 'p7', 'p9')\n",
            "('p10', 'p11', 'p14', 'p2', 'p7', 'p9')\n",
            "('p1', 'p11', 'p14', 'p4', 'p5', 'p6', 'p8', 'p9')\n",
            "('p10', 'p12', 'p13', 'p4', 'p6', 'p8')\n",
            "('p12', 'p13', 'p14', 'p3', 'p6', 'p9')\n",
            "('p1', 'p10', 'p12', 'p14', 'p2', 'p6', 'p9')\n",
            "('p1', 'p10', 'p11', 'p14', 'p2', 'p4', 'p6', 'p9')\n",
            "('p1', 'p10', 'p14', 'p2', 'p3', 'p4', 'p5', 'p8', 'p9')\n",
            "('p1', 'p10', 'p12', 'p13', 'p6', 'p7')\n",
            "('p1', 'p11', 'p14', 'p2', 'p3', 'p5', 'p6', 'p7', 'p8')\n",
            "\n",
            "Total Sets:  55 \n",
            "\n"
          ]
        }
      ],
      "source": [
        "import random as r\n",
        "\n",
        "ProductList = {'p1':10, 'p2':15, 'p3':20, 'p4':25, 'p5':30, 'p6':35, 'p7':50,\n",
        "               'p8':40, 'p9':55, 'p10':60, 'p11':65, 'p12':75, 'p13':70,\n",
        "               'p14':45}\n",
        "LB          = 290\n",
        "UB          = 310\n",
        "ResultList  = set()\n",
        "Iterations  = 1000\n",
        "\n",
        "for i in range(Iterations):\n",
        "\n",
        "    SetSize = r.randint(2, len(ProductList)-1)\n",
        "    ComboList = r.sample(list(ProductList.keys()),SetSize)\n",
        "    ComboList.sort()\n",
        "    ComboSum = sum([ ProductList[i] for i in ComboList])\n",
        "    if ComboSum>= LB and ComboSum<= UB:\n",
        "      ResultList.add(tuple(ComboList))\n",
        "\n",
        "for r in ResultList:\n",
        "\tprint (r)\n",
        "\n",
        "print (\"\\nTotal Sets: \", len(ResultList), \"\\n\")\n"
      ]
    }
  ]
}